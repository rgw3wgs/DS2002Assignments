{
  "nbformat": 4,
  "nbformat_minor": 0,
  "metadata": {
    "colab": {
      "provenance": []
    },
    "kernelspec": {
      "name": "python3",
      "display_name": "Python 3"
    },
    "language_info": {
      "name": "python"
    }
  },
  "cells": [
    {
      "cell_type": "code",
      "execution_count": 73,
      "metadata": {
        "colab": {
          "base_uri": "https://localhost:8080/"
        },
        "id": "snHnsAiTqYGC",
        "outputId": "9209fb2c-273d-452d-dbe3-cc250eb81e17"
      },
      "outputs": [
        {
          "output_type": "stream",
          "name": "stdout",
          "text": [
            "cleared.\n"
          ]
        }
      ],
      "source": [
        "## used this to clear my JSON file to make sure my updated code works correctly\n",
        "\n",
        "import os\n",
        "\n",
        "# Check if the JSON file exists\n",
        "if os.path.exists('country_info.json'):\n",
        "    # Delete the JSON file\n",
        "    os.remove('country_info.json')\n",
        "    print(\"cleared.\")\n",
        "else:\n",
        "    print(\"data not found.\")"
      ]
    },
    {
      "cell_type": "markdown",
      "source": [
        "Create a Python script that prompts the user to enter a country name. The script should then call a public API to retrieve information about the specified country, such as its capital and population. The goal is to demonstrate your ability to interact with APIs using Python. Reading that Data into a Dataframe and saving that into another format like JSON.\n",
        "\n",
        "1. Use the REST Countries APILinks to an external site. for fetching country information.\n",
        "\n",
        "2. The script should prompt the user to input a country name.\n",
        "\n",
        "3. Make an API call to retrieve information about the entered country. You can use the examples from the site documentation IE https://restcountries.com/v3.1/name/{name}\n",
        "\n",
        "4. Extract and display the country's capital and population.\n",
        "\n",
        "5. Handle errors gracefully, such as invalid input or API call failures or non-existent countries.\n",
        "\n",
        "6. Display the results to the user AND store it in a dataframe and write that out to a JSON file. If you ask for more countries, append it to the same JSON file.\n",
        "\n"
      ],
      "metadata": {
        "id": "e8M6KpPStYNv"
      }
    },
    {
      "cell_type": "code",
      "source": [
        "import requests\n",
        "import pandas as pd\n",
        "import os\n",
        "\n",
        "# function to receive a country answer and use it as input\n",
        "def get_country(name, df):\n",
        "    answer = requests.get(f\"https://restcountries.com/v3.1/name/{name}\")  # Changed country_name to name\n",
        "    country = answer.json()\n",
        "\n",
        "    # Check if country data is available\n",
        "    if isinstance(country, list):\n",
        "        if country:\n",
        "            info = country[0]\n",
        "            capital = info.get('capital', 'N/A')\n",
        "            population = info.get('population', 'N/A')\n",
        "\n",
        "            print(f\"Country: {name}\")\n",
        "            print(f\"Capital: {capital}\")\n",
        "            print(f\"Population: {population}\")\n",
        "\n",
        "            # Create DataFrame for new data\n",
        "            new_data = pd.DataFrame({'Country': [name], 'Capital': [capital], 'Population': [population]})\n",
        "\n",
        "\n",
        "            if os.path.exists('country_info.json'): # Checking if there is a prior JSON file and adding new data\n",
        "                df_existing = pd.read_json('country_info.json')\n",
        "                df = pd.concat([df_existing, new_data], ignore_index=True) #format JSON to make easier to read\n",
        "            else: # if there is no prior JSON, I create one\n",
        "                df = new_data\n",
        "\n",
        "            # Write DataFrame to JSON\n",
        "            df.to_json('country_info.json', orient='records', indent=4)\n",
        "\n",
        "    else:\n",
        "        print(\"Country not found\")\n",
        "\n",
        "\n",
        "\n",
        "# Continuously ask for country names\n",
        "while True:\n",
        "    name = input(\"Please choose a country name: \\n(type done when finished) \")\n",
        "    if name.lower() == 'done':\n",
        "        break\n",
        "\n",
        "    df = get_country(name, df)\n",
        "\n"
      ],
      "metadata": {
        "colab": {
          "base_uri": "https://localhost:8080/"
        },
        "id": "0JXODvKuzSkT",
        "outputId": "bb633b25-7be3-4847-bfef-55e2653eba9c"
      },
      "execution_count": 86,
      "outputs": [
        {
          "name": "stdout",
          "output_type": "stream",
          "text": [
            "Please choose a country name: \n",
            "(type done when finished) Austria\n",
            "Country: Austria\n",
            "Capital: ['Vienna']\n",
            "Population: 8917205\n",
            "Please choose a country name: \n",
            "(type done when finished) Nigeria\n",
            "Country: Nigeria\n",
            "Capital: ['Abuja']\n",
            "Population: 206139587\n",
            "Please choose a country name: \n",
            "(type done when finished) done\n"
          ]
        }
      ]
    },
    {
      "cell_type": "code",
      "source": [
        "with open('country_info.json', 'r') as file:\n",
        "    data = file.read()\n",
        "    print(\"JSON file contents:\")\n",
        "    print(data)"
      ],
      "metadata": {
        "colab": {
          "base_uri": "https://localhost:8080/"
        },
        "id": "jhOVDjtI_92N",
        "outputId": "0b0dbb13-5e85-4a02-f8d3-274c05fb911f"
      },
      "execution_count": 87,
      "outputs": [
        {
          "output_type": "stream",
          "name": "stdout",
          "text": [
            "JSON file contents:\n",
            "[\n",
            "    {\n",
            "        \"Country\":\"nigeria\",\n",
            "        \"Capital\":[\n",
            "            \"Abuja\"\n",
            "        ],\n",
            "        \"Population\":206139587\n",
            "    },\n",
            "    {\n",
            "        \"Country\":\"poland\",\n",
            "        \"Capital\":[\n",
            "            \"Warsaw\"\n",
            "        ],\n",
            "        \"Population\":37950802\n",
            "    },\n",
            "    {\n",
            "        \"Country\":\"Austria\",\n",
            "        \"Capital\":[\n",
            "            \"Vienna\"\n",
            "        ],\n",
            "        \"Population\":8917205\n",
            "    },\n",
            "    {\n",
            "        \"Country\":\"Nigeria\",\n",
            "        \"Capital\":[\n",
            "            \"Abuja\"\n",
            "        ],\n",
            "        \"Population\":206139587\n",
            "    }\n",
            "]\n"
          ]
        }
      ]
    }
  ]
}