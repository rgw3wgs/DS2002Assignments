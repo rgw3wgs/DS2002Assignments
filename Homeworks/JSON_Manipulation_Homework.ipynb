{
  "nbformat": 4,
  "nbformat_minor": 0,
  "metadata": {
    "colab": {
      "provenance": []
    },
    "kernelspec": {
      "name": "python3",
      "display_name": "Python 3"
    },
    "language_info": {
      "name": "python"
    }
  },
  "cells": [
    {
      "cell_type": "markdown",
      "source": [
        "1. Load a JSON File attached into you Python (You can use a juypter lab notebook or any Python IDE)\n",
        "\n",
        "2. Take that file and put it into a Pandas Data Frame\n",
        "\n",
        "3. Output the results for me for 100 rows"
      ],
      "metadata": {
        "id": "_XZkYBOcZFye"
      }
    },
    {
      "cell_type": "code",
      "source": [
        "import pandas as pd\n",
        "import json"
      ],
      "metadata": {
        "id": "RqAZup_4ZPPv"
      },
      "execution_count": 70,
      "outputs": []
    },
    {
      "cell_type": "code",
      "source": [
        "with open('coll bb_SortByConf.json', 'r') as f:\n",
        "  data = json.load(f)\n",
        "\n",
        "df = pd.json_normalize(data['teams'])\n",
        "print(df.head(100))\n",
        "\n",
        "\n"
      ],
      "metadata": {
        "colab": {
          "base_uri": "https://localhost:8080/"
        },
        "id": "BG5PQv9aZHec",
        "outputId": "e3e36b13-8a77-4e2c-f2b7-9eca84957ddc"
      },
      "execution_count": 71,
      "outputs": [
        {
          "output_type": "stream",
          "name": "stdout",
          "text": [
            "    tid  cid  did                region       name  abbrev  pop  \\\n",
            "0   159    0    0        Boston College     Eagles      BC  161   \n",
            "1   105    0    0               Clemson     Tigers    CLEM  215   \n",
            "2   109    0    0         Florida State  Seminoles     FSU  211   \n",
            "3    18    0    0            Louisville  Cardinals      UL  302   \n",
            "4    31    0    0  North Carolina State   Wolfpack    NCST  289   \n",
            "..  ...  ...  ...                   ...        ...     ...  ...   \n",
            "95  300    5   11    Jacksonville State  Gamecocks  JVILLE   20   \n",
            "96   72    6   12    Eastern Washington     Eagles   EWASH  248   \n",
            "97  139    6   12      Sacramento State    Hornets   SACST  181   \n",
            "98  239    6   12     Northern Colorado      Bears   NOCOL   81   \n",
            "99  266    6   12                 Idaho    Vandals      UI   54   \n",
            "\n",
            "             city state  latitude  longitude  \n",
            "0   Chestnut Hill    MA    42.330    -71.166  \n",
            "1         Clemson    SC    34.678    -82.839  \n",
            "2     Tallahassee    FL    30.442    -84.298  \n",
            "3      Louisville    KY    38.250    -85.766  \n",
            "4         Raleigh    NC    35.786    -78.682  \n",
            "..            ...   ...       ...        ...  \n",
            "95   Jacksonville    AL    33.815    -85.760  \n",
            "96         Cheney    WA    47.488   -117.578  \n",
            "97     Sacramento    CA    38.555   -121.468  \n",
            "98        Greeley    CO    40.416   -104.716  \n",
            "99         Moscow    ID    46.730   -117.000  \n",
            "\n",
            "[100 rows x 11 columns]\n"
          ]
        }
      ]
    },
    {
      "cell_type": "markdown",
      "source": [
        "4. Answer the following questions using Python:\n",
        "\n",
        "     a. How many teams are there?\n",
        "     b. How many teams are in the state of Virginia?\n",
        "     c. Give me a list of Duplicate Mascots and group them by number....IE. Don't include groups of 1."
      ],
      "metadata": {
        "id": "UvRAM7KodBoe"
      }
    },
    {
      "cell_type": "code",
      "source": [
        "## number of teams\n",
        "num_teams = len(df)\n",
        "print(\"a. Total Numver of Teams: \", num_teams)\n"
      ],
      "metadata": {
        "colab": {
          "base_uri": "https://localhost:8080/"
        },
        "id": "IjcE3zq6ZbbD",
        "outputId": "e0775677-8635-4096-c30f-d9ac05ab3d94"
      },
      "execution_count": 72,
      "outputs": [
        {
          "output_type": "stream",
          "name": "stdout",
          "text": [
            "a. Total Numver of Teams:  320\n"
          ]
        }
      ]
    },
    {
      "cell_type": "code",
      "source": [
        "## teams in state of VA\n",
        "va_teams = df[df['state']== 'VA']\n",
        "print(\"Number of teams in Virginia: \", len(va_teams))"
      ],
      "metadata": {
        "colab": {
          "base_uri": "https://localhost:8080/"
        },
        "id": "1cbFzRTtkDHy",
        "outputId": "f2218064-0d7b-4df7-b331-ad7d3c96c0e2"
      },
      "execution_count": 73,
      "outputs": [
        {
          "output_type": "stream",
          "name": "stdout",
          "text": [
            "Number of teams in Virginia:  13\n"
          ]
        }
      ]
    },
    {
      "cell_type": "code",
      "source": [
        "## duplicate mascots by number\n",
        "duplicate_masc = df[df.duplicated(subset =['name'], keep=False)]\n",
        "dup_masc = duplicate_masc.groupby('name').size()[duplicate_masc.groupby('name').size() > 1]\n",
        "print(\"Duplicate Mascots Grouped by Number: \")\n",
        "print(dup_masc.sort_values(ascending = True))"
      ],
      "metadata": {
        "colab": {
          "base_uri": "https://localhost:8080/"
        },
        "id": "OB4XgDoakKOQ",
        "outputId": "74b581c9-7262-4661-ecd4-18d257273815"
      },
      "execution_count": 74,
      "outputs": [
        {
          "output_type": "stream",
          "name": "stdout",
          "text": [
            "Duplicate Mascots Grouped by Number: \n",
            "name\n",
            "49ers             2\n",
            "Gaels             2\n",
            "Gamecocks         2\n",
            "Highlanders       2\n",
            "Knights           2\n",
            "Lions             2\n",
            "Lumberjacks       2\n",
            "Falcons           2\n",
            "Mavericks         2\n",
            "Phoenix           2\n",
            "Pioneers          2\n",
            "Raiders           2\n",
            "Rebels            2\n",
            "Roadrunners       2\n",
            "Titans            2\n",
            "Mustangs          2\n",
            "Dukes             2\n",
            "Wolverines        2\n",
            "Bisons            2\n",
            "Colonials         2\n",
            "Bison             2\n",
            "Crusaders         2\n",
            "Catamounts        2\n",
            "Bruins            2\n",
            "Buccaneers        2\n",
            "Bulls             2\n",
            "Bobcats           3\n",
            "Broncos           3\n",
            "Mountaineers      3\n",
            "Redhawks          3\n",
            "Hornets           3\n",
            "Jaguars           3\n",
            "Terriers          3\n",
            "Trojans           3\n",
            "Vikings           3\n",
            "Cowboys           3\n",
            "Pirates           3\n",
            "Spartans          4\n",
            "Aggies            4\n",
            "Bears             4\n",
            "Owls              4\n",
            "Cardinals         4\n",
            "Hawks             4\n",
            "Golden Eagles     4\n",
            "Cougars           4\n",
            "Rams              4\n",
            "Huskies           5\n",
            "Panthers          8\n",
            "Wildcats          8\n",
            "Tigers            9\n",
            "Eagles           10\n",
            "Bulldogs         13\n",
            "dtype: int64\n"
          ]
        }
      ]
    }
  ]
}