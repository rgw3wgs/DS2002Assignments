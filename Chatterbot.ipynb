{
  "nbformat": 4,
  "nbformat_minor": 0,
  "metadata": {
    "colab": {
      "provenance": [],
      "authorship_tag": "ABX9TyOyEg7f40lEJtrF/0REpGXx",
      "include_colab_link": true
    },
    "kernelspec": {
      "name": "python3",
      "display_name": "Python 3"
    },
    "language_info": {
      "name": "python"
    }
  },
  "cells": [
    {
      "cell_type": "markdown",
      "metadata": {
        "id": "view-in-github",
        "colab_type": "text"
      },
      "source": [
        "<a href=\"https://colab.research.google.com/github/rgw3wgs/DS2002Assignments/blob/main/Chatterbot.ipynb\" target=\"_parent\"><img src=\"https://colab.research.google.com/assets/colab-badge.svg\" alt=\"Open In Colab\"/></a>"
      ]
    },
    {
      "cell_type": "code",
      "execution_count": 102,
      "metadata": {
        "id": "xJSMePNWgpoc"
      },
      "outputs": [],
      "source": [
        "import requests\n",
        "import random"
      ]
    },
    {
      "cell_type": "code",
      "source": [
        "responses = {\n",
        "    \"hello\": [\"Hi there!\", \"Hello\", \"Hey\"],\n",
        "    \"hi\": [\"Hi there!\", \"Hello!\", \"Hey!\"],\n",
        "    \"hey\": [\"Hi there!\", \"Hello!\", \"Hey!\"],\n",
        "    \"goodbye\": [\"Goodbye!\", \"Bye!\", \"See you later!\"],\n",
        "    \"bye\": [\"Goodbye!\", \"Bye!\", \"See you later!\"],\n",
        "    \"see you later\": [\"Goodbye!\", \"Bye!\", \"See you later!\"],\n",
        "    \"how are you\": [\"I'm doing well, thank you!\", \"Feeling great!\", \"I'm fine, how about you?\"],\n",
        "    \"what's your name\": [\"I'm a chatbot, you can call me Chatbot!\", \"I'm Chatbot, nice to meet you!\"],\n",
        "    \"my name is\": [\"Nice to meet you, {name}!\", \"Hello, {name}!\", \"Great! Hi, {name}!\"],\n",
        "    \"good\": [\"That's good to here!\", \"I'm glad!\"],\n",
        "    \"bad\": [\"I'm sorry about that\", \"How could your day be better?\"],\n",
        "    \"okay\": [\"I hope it gets better\"],\n",
        "    \"what's your favorite color\": [\"Green\", \"Purple\", \"Red\", \"Blue\"],\n",
        "    \"what's your favorite food\": [\"I do not have a favorite, I can not eat food\", \"whatever you like!\"],\n",
        "    \"thank you\": [\"You're welcome\"],\n",
        "    \"how old are you\": [\"I am less than a year old, Rebekah created me in 2024\"],\n",
        "    \"what is your dream car\": [\"I can not drive yet, but I would like a Lexus when I am older\"],\n",
        "    \"what languages can you speak\": [\"only limited English right now\", \"whatever language you want me to\"],\n",
        "    \"who made you\": [\"The most amazing person ever\", \"Rebekah Weaver\"],\n",
        "    \"what is your name\": [\"Botly Weaver\"],\n",
        "    \"how is your day\": [\"My day is good so far, I just woke up\"],\n",
        "    \"are you human\": [\"unfortunately, I am only a robot\"],\n",
        "    \"it's my birthday\": [\"Happy Birthday!\"],\n",
        "    \"good morning\": [\"Good morning {name}\"],\n",
        "    \"good afternoon\": [\"Good afternoon {name}\"],\n",
        "    \"good night\": [\"Good night {name}\"],\n",
        "    \"good evening\": [\"Good evening {name}\"],\n",
        "    \"can you help me\": [\"Of course! What can I help with?\"],\n",
        "    \"tell me a joke\": [\"What do dentists call their x-rays?   ...  Tooth pics!\", \"What did one ocean say to the other ocean?   ...  Nothing, it just waved.\", \"What does a nosey pepper do?    ...  It gets jalapeño business.\", \"Why should you never trust stairs?   ...  They’re always up to something\", \"Where does a waitress with only one leg work?    ...  IHOP.\"],\n",
        "    \"that's not funny\": [\"I'm sorry I could not entertain you {name}\", \"Ask me again\"],\n",
        "    \"you're funny\": [\"Thank you I get it from my owner!\"]\n",
        "\n",
        "\n",
        "\n",
        "}"
      ],
      "metadata": {
        "id": "yRJPk0TVgs7E"
      },
      "execution_count": 103,
      "outputs": []
    },
    {
      "cell_type": "code",
      "source": [
        "# Help from StackOverflow on this part\n",
        "api_key = \"b9adf9aff2c0357f2c3f9d15857307e0\"\n",
        "base_url = \"https://api.openweathermap.org/data/2.5/weather?\"\n",
        "\n",
        "# Function to get current weather using OpenWeatherMap API by city name\n",
        "def get_weather_by_city(city):\n",
        "    url = f\"{base_url}q={city}&appid={api_key}&units=imperial\"\n",
        "    response = requests.get(url)\n",
        "    if response.status_code == 200:\n",
        "        data = response.json()\n",
        "        temperature = data[\"main\"][\"temp\"]\n",
        "        description = data[\"weather\"][0][\"description\"]\n",
        "        return f\"The current weather in {city} is {description} with a temperature of {temperature}°F.\"\n",
        "    else:\n",
        "        return \"Unable to retrieve weather data.\"\n"
      ],
      "metadata": {
        "id": "8liwFA5npD0W"
      },
      "execution_count": 104,
      "outputs": []
    },
    {
      "cell_type": "code",
      "source": [
        "def chat():\n",
        "    print(\"Hello! I'm your chatbot. What's your name? (Type 'exit' to quit)\")\n",
        "\n",
        "    name = \"\"\n",
        "    while not name:\n",
        "        name_input = input(\"You: \").strip()\n",
        "        if name_input.lower() in [\"exit\", \"quit\"]:\n",
        "            print(\"Bot: Goodbye! Have a great day!\")\n",
        "            return\n",
        "        elif name_input:\n",
        "            name = name_input\n",
        "            print(f\"Bot: Hello, {name}! How can I assist you today?\\n (For weather say 'check weather')\")\n",
        "\n",
        "    while True:\n",
        "        user_input = input(\"You: \").lower()\n",
        "\n",
        "        # Exit command\n",
        "        if user_input in [\"exit\", \"quit\", \"goodbye\", \"bye\", \"done\"]:\n",
        "            print(\"Bot: Goodbye! Have a great day!\")\n",
        "            break\n",
        "\n",
        "        # user input match\n",
        "        if user_input in responses:\n",
        "            response = random.choice(responses[user_input])\n",
        "            if \"{name}\" in response:\n",
        "                response = response.format(name=name)\n",
        "            print(\"Bot:\", response)\n",
        "        elif user_input.startswith(\"check weather\"):\n",
        "            print(\"Bot: Please provide the name of the city. (Ex: weather in Charlottesville)\")\n",
        "        elif user_input.startswith(\"weather in\"):\n",
        "            city = user_input.split(\"in\", 1)[1].strip()\n",
        "            print(\"Bot:\", get_weather_by_city(city))\n",
        "        else:\n",
        "            print(\"Bot: I'm sorry, I didn't understand that.\")\n",
        "\n"
      ],
      "metadata": {
        "id": "IowtSYR6hmDo"
      },
      "execution_count": 105,
      "outputs": []
    },
    {
      "cell_type": "code",
      "source": [
        "chat()"
      ],
      "metadata": {
        "colab": {
          "base_uri": "https://localhost:8080/"
        },
        "id": "V6tWjp4shwXV",
        "outputId": "bd87c344-6f6b-4c1f-81b0-5279c267448e"
      },
      "execution_count": 106,
      "outputs": [
        {
          "output_type": "stream",
          "name": "stdout",
          "text": [
            "Hello! I'm your chatbot. What's your name? (Type 'exit' to quit)\n",
            "You: Rebekah\n",
            "Bot: Hello, Rebekah! How can I assist you today?\n",
            " (For weather say 'check weather')\n",
            "You: check weather\n",
            "Bot: Please provide the name of the city. (Ex: weather in Charlottesville)\n",
            "You: weather in Shanghai\n",
            "Bot: The current weather in shanghai is clear sky with a temperature of 75.06°F.\n",
            "You: tell me a joke\n",
            "Bot: What do dentists call their x-rays?   ...  Tooth pics!\n",
            "You: you're funny\n",
            "Bot: Thank you I get it from my owner!\n",
            "You: goodbye\n",
            "Bot: Goodbye! Have a great day!\n"
          ]
        }
      ]
    }
  ]
}